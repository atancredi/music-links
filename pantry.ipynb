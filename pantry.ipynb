{
 "cells": [
  {
   "cell_type": "code",
   "execution_count": 1,
   "metadata": {},
   "outputs": [
    {
     "data": {
      "text/plain": [
       "True"
      ]
     },
     "execution_count": 1,
     "metadata": {},
     "output_type": "execute_result"
    }
   ],
   "source": [
    "from json import dumps\n",
    "import requests\n",
    "from os import environ as env\n",
    "from dotenv import load_dotenv\n",
    "load_dotenv()"
   ]
  },
  {
   "cell_type": "code",
   "execution_count": 2,
   "metadata": {},
   "outputs": [],
   "source": [
    "PANTRY_ID = env.get(\"PANTRY_ID\")\n",
    "basket_name = \"links_test\""
   ]
  },
  {
   "cell_type": "code",
   "execution_count": 4,
   "metadata": {},
   "outputs": [
    {
     "name": "stdout",
     "output_type": "stream",
     "text": [
      "{'name': 'linktree', 'description': 'defaultDescription', 'errors': [], 'notifications': True, 'percentFull': 0, 'baskets': []}\n"
     ]
    }
   ],
   "source": [
    "res = requests.get(f\"https://getpantry.cloud/apiv1/pantry/{PANTRY_ID}\")\n",
    "print(res.json())"
   ]
  },
  {
   "cell_type": "code",
   "execution_count": 5,
   "metadata": {},
   "outputs": [
    {
     "name": "stdout",
     "output_type": "stream",
     "text": [
      "Your Pantry was updated with basket: links_test!\n"
     ]
    }
   ],
   "source": [
    "\n",
    "res = requests.post(\n",
    "    f\"https://getpantry.cloud/apiv1/pantry/{PANTRY_ID}/basket/{basket_name}\",\n",
    "    json={\"Grande Fumo on Spotify\":\"https://open.spotify.com/artist/3WEdqGk6CheSLrHmGoX2c8\"},\n",
    ")\n",
    "print(res.text)"
   ]
  },
  {
   "cell_type": "code",
   "execution_count": 6,
   "metadata": {},
   "outputs": [
    {
     "name": "stdout",
     "output_type": "stream",
     "text": [
      "{'Grande Fumo on Spotify': 'https://open.spotify.com/artist/3WEdqGk6CheSLrHmGoX2c8'}\n"
     ]
    }
   ],
   "source": [
    "res = requests.get(f\"https://getpantry.cloud/apiv1/pantry/{PANTRY_ID}/basket/{basket_name}\")\n",
    "print(res.json())"
   ]
  },
  {
   "cell_type": "code",
   "execution_count": null,
   "metadata": {},
   "outputs": [],
   "source": [
    "basket_name = \"links_test\"\n",
    "res = requests.put(\n",
    "    f\"https://getpantry.cloud/apiv1/pantry/{PANTRY_ID}/basket/{basket_name}\",\n",
    "    json={\"oliodue2\":\"https://open.spotify.com/album/4THjDAeL2ALXw877KA2BZj\"},\n",
    ")\n",
    "print(res.json())"
   ]
  },
  {
   "cell_type": "code",
   "execution_count": null,
   "metadata": {},
   "outputs": [],
   "source": []
  }
 ],
 "metadata": {
  "kernelspec": {
   "display_name": "test",
   "language": "python",
   "name": "python3"
  },
  "language_info": {
   "codemirror_mode": {
    "name": "ipython",
    "version": 3
   },
   "file_extension": ".py",
   "mimetype": "text/x-python",
   "name": "python",
   "nbconvert_exporter": "python",
   "pygments_lexer": "ipython3",
   "version": "3.10.6"
  }
 },
 "nbformat": 4,
 "nbformat_minor": 2
}
